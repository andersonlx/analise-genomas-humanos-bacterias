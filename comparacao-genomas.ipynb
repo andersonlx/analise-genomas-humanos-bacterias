{
 "cells": [
  {
   "cell_type": "markdown",
   "metadata": {},
   "source": [
    "# Estudo de caso: Bioinformática - comparando genomas"
   ]
  },
  {
   "cell_type": "markdown",
   "metadata": {},
   "source": [
    "Neste estudo de caso, faremos a comparação entre duas sequências de DNA:\n",
    "(1) ser humano; vs. (2) bactéria.\n",
    "\n"
   ]
  },
  {
   "cell_type": "markdown",
   "metadata": {},
   "source": [
    "![title](img/dna-h-x-b.svg)\n",
    "\n",
    "Estrutura do DNA. Fonte: https://se.wikipedia.org/wiki/Fiila:Dna-base-flipping.svg"
   ]
  },
  {
   "cell_type": "markdown",
   "metadata": {},
   "source": [
    "DNA é uma molécula presente em todos os seres vivos, que é responsável por armazenar as características hereditárias. Ela é composta por sequências de nucleotídeos, que podem de quatro tipos: adenina, timina, citosina ou guanina."
   ]
  },
  {
   "cell_type": "markdown",
   "metadata": {},
   "source": [
    "<b><i>\"Computacionalmente\" falando podemos representá-los através de 4 letras: A, T, C ou G. </b></i>\n",
    "   "
   ]
  },
  {
   "cell_type": "markdown",
   "metadata": {},
   "source": [
    "Neste estudo de caso, queremos avaliar se estruturas com funções parecidas (estamos usando sequências de RNA ribossomal) de organismos diferentes têm diferenças. Para isso vamos avaliar a quantidade de pares de nucleotídeos."
   ]
  },
  {
   "cell_type": "markdown",
   "metadata": {},
   "source": [
    "# Dados utilizados:\n",
    "<b>Human Font:</b> Fonte: https://www.ncbi.nlm.nih.gov/nuccore/M10098.1?report=fasta <br />\n",
    "<b>Bacterium Font:</b> Fonte: https://www.ncbi.nlm.nih.gov/nuccore/NR_024570.1?report=fasta"
   ]
  },
  {
   "cell_type": "markdown",
   "metadata": {},
   "source": [
    "# Resultado final:\n",
    "Como resultado final, geraremos uma figura que compara os DNAs visualmente."
   ]
  },
  {
   "cell_type": "markdown",
   "metadata": {},
   "source": [
    "![title](img/resultado-final.png)"
   ]
  },
  {
   "cell_type": "code",
   "execution_count": 1,
   "metadata": {},
   "outputs": [],
   "source": [
    "# Entrada de dados\n",
    "entrada = open(\"data/human.fasta\").read() #entrada de dados de humano\n",
    "saida = open(\"result/human.html\", \"w\") #saida de dados em html de humano\n",
    "\n",
    "cont = {}\n",
    "\n",
    "for i in ['A', 'T', 'C', 'G']:\n",
    "    for j in ['A', 'T', 'C', 'G']:\n",
    "        cont[i + j] = 0\n",
    "        \n",
    "entrada = entrada.replace(\"\\n\", \"\")\n",
    "#K percorre o arquivo de bacteria\n",
    "for k in range(len(entrada)-1):\n",
    "    cont[entrada[k]+entrada[k+1]] += 1\n",
    "       \n",
    "# html\n",
    "i = 1\n",
    "for k in cont:\n",
    "    transparencia = cont[k]/max(cont.values())\n",
    "    saida.write(\"<div style='width:100px; border:1px solid #111; color:#fff; height:100px; float:left; background-color:rgba(0,0,0,\"+str(transparencia)+\"')>\"+k+\"</div>\")\n",
    "    \n",
    "    if i%4 == 0:\n",
    "        saida.write(\"<div style='clear:both'></div>\")\n",
    "    i+=1\n",
    "    \n",
    "saida.close()"
   ]
  },
  {
   "cell_type": "code",
   "execution_count": 2,
   "metadata": {},
   "outputs": [],
   "source": [
    "# Entrada de dados\n",
    "entrada = open(\"data/bacteria.fasta\").read() #entrada de dados da bacteria\n",
    "saida = open(\"result/bacteria.html\", \"w\") #saida de dados em html da bacteria\n",
    "\n",
    "cont = {}\n",
    "\n",
    "for i in ['A', 'T', 'C', 'G']:\n",
    "    for j in ['A', 'T', 'C', 'G']:\n",
    "        cont[i + j] = 0\n",
    "        \n",
    "entrada = entrada.replace(\"\\n\", \"\")\n",
    "#K percorre o arquivo de bacteria\n",
    "for k in range(len(entrada)-1):\n",
    "    cont[entrada[k]+entrada[k+1]] += 1\n",
    "       \n",
    "# html\n",
    "i = 1\n",
    "for k in cont:\n",
    "    transparencia = cont[k]/max(cont.values())\n",
    "    saida.write(\"<div style='width:100px; border:1px solid #111; color:#fff; height:100px; float:left; background-color:rgba(0,0,0,\"+str(transparencia)+\"')>\"+k+\"</div>\")\n",
    "    \n",
    "    if i%4 == 0:\n",
    "        saida.write(\"<div style='clear:both'></div>\")\n",
    "    i+=1\n",
    "    \n",
    "saida.close()"
   ]
  }
 ],
 "metadata": {
  "kernelspec": {
   "display_name": "Python 3",
   "language": "python",
   "name": "python3"
  },
  "language_info": {
   "codemirror_mode": {
    "name": "ipython",
    "version": 3
   },
   "file_extension": ".py",
   "mimetype": "text/x-python",
   "name": "python",
   "nbconvert_exporter": "python",
   "pygments_lexer": "ipython3",
   "version": "3.7.0"
  }
 },
 "nbformat": 4,
 "nbformat_minor": 2
}
